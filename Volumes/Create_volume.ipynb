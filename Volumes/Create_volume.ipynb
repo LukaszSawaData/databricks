{
 "cells": [
  {
   "cell_type": "code",
   "execution_count": null,
   "metadata": {
    "vscode": {
     "languageId": "sql"
    }
   },
   "outputs": [],
   "source": [
    "%sql\n",
    "CREATE EXTERNAL VOLUME IF NOT EXISTS Catalog.Schema.ExternalVolume\n",
    "COMMENT 'This is my example external volume'\n",
    "LOCATION 'abfss://mypath/my-location/my-path'"
   ]
  },
  {
   "cell_type": "code",
   "execution_count": null,
   "metadata": {
    "vscode": {
     "languageId": "sql"
    }
   },
   "outputs": [],
   "source": [
    "--list all files from Volumes\n",
    " LIST '/Volumes/mycatalog/myschema/myexternalvolume'"
   ]
  },
  {
   "cell_type": "code",
   "execution_count": null,
   "metadata": {
    "vscode": {
     "languageId": "sql"
    }
   },
   "outputs": [],
   "source": [
    "-- create managed volumes\n",
    "CREATE VOLUME myManagedVolume\n",
    "    COMMENT 'This is my example managed volume';"
   ]
  },
  {
   "cell_type": "code",
   "execution_count": null,
   "metadata": {
    "vscode": {
     "languageId": "sql"
    }
   },
   "outputs": [],
   "source": [
    "--query files from volumes\n",
    "SELECT * FROM csv.`/Volumes/mycatalog/myschema/myexternalvolume/sample.csv`\n",
    "-- we can create nested folder and read from folder ALL files"
   ]
  },
  {
   "cell_type": "code",
   "execution_count": null,
   "metadata": {
    "vscode": {
     "languageId": "sql"
    }
   },
   "outputs": [],
   "source": [
    "-- print all valumes in schema\n",
    "SHOW VOLUMES IN quickstart_schema;"
   ]
  },
  {
   "cell_type": "code",
   "execution_count": null,
   "metadata": {},
   "outputs": [],
   "source": [
    "-- create new path in Volume\n",
    "dbutils.fs.mkdirs(\"/Volumes/quickstart_catalog/quickstart_schema/quickstart_volume/destination\")"
   ]
  },
  {
   "cell_type": "code",
   "execution_count": null,
   "metadata": {},
   "outputs": [],
   "source": [
    "-- move files to othet __path__\n",
    "\n",
    "dbutils.fs.mv(\"/Volumes/quickstart_catalog/quickstart_schema/quickstart_volume/winequality-red.csv\", \"/Volumes/quickstart_catalog/quickstart_schema/quickstart_volume/destination/\")"
   ]
  },
  {
   "cell_type": "code",
   "execution_count": null,
   "metadata": {
    "vscode": {
     "languageId": "sql"
    }
   },
   "outputs": [],
   "source": [
    "-- find all volumes in metadata\n",
    " SELECT table_owner\n",
    "    FROM information_schema.volumes\n",
    "    WHERE volume_schema = 'my_schema'\n",
    "      AND volume_name = 'my_volume';"
   ]
  }
 ],
 "metadata": {
  "language_info": {
   "name": "python"
  },
  "orig_nbformat": 4
 },
 "nbformat": 4,
 "nbformat_minor": 2
}
